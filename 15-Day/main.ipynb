{
 "cells": [
  {
   "cell_type": "markdown",
   "metadata": {},
   "source": [
    "Today is the 15 Day of our Machile Learning challenge where we will write a code in order to learn Machine Learning every single day.\n",
    "From today we will learn and perform some numpy operations and to the Machine Learning models starting from Linear Regression.\n",
    "Today we will see what is matrix and see some operations on it"
   ]
  },
  {
   "cell_type": "code",
   "execution_count": 2,
   "metadata": {},
   "outputs": [],
   "source": [
    "#Let's import package needed for working with matrices \n",
    "import numpy as np"
   ]
  },
  {
   "cell_type": "code",
   "execution_count": 13,
   "metadata": {},
   "outputs": [
    {
     "data": {
      "text/plain": [
       "array([ 6, 67, 17, 29, 39])"
      ]
     },
     "execution_count": 13,
     "metadata": {},
     "output_type": "execute_result"
    }
   ],
   "source": [
    "#Let's create 1-dimensional array\n",
    "np.random.randint(100, size=(5))"
   ]
  },
  {
   "cell_type": "code",
   "execution_count": 14,
   "metadata": {},
   "outputs": [
    {
     "data": {
      "text/plain": [
       "array([[94, 87, 84],\n",
       "       [97, 13, 60],\n",
       "       [70, 58, 13],\n",
       "       [11, 32,  0],\n",
       "       [52, 45, 65]])"
      ]
     },
     "execution_count": 14,
     "metadata": {},
     "output_type": "execute_result"
    }
   ],
   "source": [
    "#Now Let's create 2-dimensional array\n",
    "np.random.randint(100, size=(5,3))"
   ]
  },
  {
   "cell_type": "code",
   "execution_count": 15,
   "metadata": {},
   "outputs": [
    {
     "data": {
      "text/plain": [
       "array([0.41663255, 0.5219432 , 0.61919175, 0.14015469, 0.27903603])"
      ]
     },
     "execution_count": 15,
     "metadata": {},
     "output_type": "execute_result"
    }
   ],
   "source": [
    "#In order to create matrix with float numbers you should use another method of numpy package\n",
    "#This is 1 dimensional\n",
    "np.random.rand(5)"
   ]
  },
  {
   "cell_type": "code",
   "execution_count": 16,
   "metadata": {},
   "outputs": [
    {
     "data": {
      "text/plain": [
       "array([[0.11459615, 0.70400711, 0.88751906],\n",
       "       [0.53869071, 0.55580591, 0.02747101],\n",
       "       [0.52307857, 0.02450002, 0.99175533],\n",
       "       [0.03476443, 0.80785648, 0.06787924],\n",
       "       [0.58192767, 0.91870317, 0.53151721]])"
      ]
     },
     "execution_count": 16,
     "metadata": {},
     "output_type": "execute_result"
    }
   ],
   "source": [
    "#This is 2-dimensional\n",
    "np.random.rand(5,3)"
   ]
  },
  {
   "cell_type": "code",
   "execution_count": 18,
   "metadata": {},
   "outputs": [],
   "source": [
    "#We can multpily matrices between each other\n",
    "#For that np.dot method is required\n",
    "a = np.random.randint(100, size=(2,3))\n",
    "b = np.random.randint(100, size=(3,2))\n",
    "#remember that number of columns of first matrix should be equal to rows of second matrix\n",
    "c = np.dot(a,b)"
   ]
  },
  {
   "cell_type": "code",
   "execution_count": 20,
   "metadata": {},
   "outputs": [
    {
     "data": {
      "text/plain": [
       "(array([[95, 46, 24],\n",
       "        [82, 50,  1]]),\n",
       " array([[97, 20],\n",
       "        [39, 65],\n",
       "        [52, 62]]))"
      ]
     },
     "execution_count": 20,
     "metadata": {},
     "output_type": "execute_result"
    }
   ],
   "source": [
    "a,b"
   ]
  },
  {
   "cell_type": "code",
   "execution_count": 21,
   "metadata": {},
   "outputs": [
    {
     "data": {
      "text/plain": [
       "array([[12257,  6378],\n",
       "       [ 9956,  4952]])"
      ]
     },
     "execution_count": 21,
     "metadata": {},
     "output_type": "execute_result"
    }
   ],
   "source": [
    "c"
   ]
  },
  {
   "cell_type": "code",
   "execution_count": null,
   "metadata": {},
   "outputs": [
    {
     "data": {
      "text/plain": [
       "array([[12257,  9956],\n",
       "       [ 6378,  4952]])"
      ]
     },
     "execution_count": 25,
     "metadata": {},
     "output_type": "execute_result"
    }
   ],
   "source": [
    "#We can also transpose our matrix \n",
    "#This can help to change the dimeonsionality of our matrix\n",
    "c.T\n",
    "#We can see that values has changed"
   ]
  },
  {
   "cell_type": "code",
   "execution_count": 38,
   "metadata": {},
   "outputs": [
    {
     "data": {
      "text/plain": [
       "array([[ 0.02690763, -0.00290575, -0.00553663],\n",
       "       [ 0.00684226, -0.01569694,  0.01063151],\n",
       "       [-0.00776012,  0.01780262,  0.00013743]])"
      ]
     },
     "execution_count": 38,
     "metadata": {},
     "output_type": "execute_result"
    }
   ],
   "source": [
    "#here we will find the inverse of the matrix\n",
    "d = np.random.randint(100, size=(3,3))\n",
    "np.linalg.inv(d)"
   ]
  },
  {
   "cell_type": "markdown",
   "metadata": {},
   "source": [
    "So today in our challenge we have seen what are the matrices. \n",
    "We have seen how to perform some calculations. In further days we will learn how to deploy some models and train our own models."
   ]
  }
 ],
 "metadata": {
  "kernelspec": {
   "display_name": "Python 3",
   "language": "python",
   "name": "python3"
  },
  "language_info": {
   "codemirror_mode": {
    "name": "ipython",
    "version": 3
   },
   "file_extension": ".py",
   "mimetype": "text/x-python",
   "name": "python",
   "nbconvert_exporter": "python",
   "pygments_lexer": "ipython3",
   "version": "3.9.6"
  }
 },
 "nbformat": 4,
 "nbformat_minor": 2
}
